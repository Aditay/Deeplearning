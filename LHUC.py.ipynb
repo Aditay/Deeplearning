{
 "cells": [
  {
   "cell_type": "code",
   "execution_count": 1,
   "metadata": {
    "collapsed": false
   },
   "outputs": [
    {
     "name": "stderr",
     "output_type": "stream",
     "text": [
      "Using Theano backend.\n"
     ]
    }
   ],
   "source": [
    "import cPickle, gzip\n",
    "import theano.tensor as T\n",
    "import numpy as np\n",
    "import theano\n",
    "from keras.models import Model\n",
    "from keras.layers import Dense, Input\n",
    "from keras.utils import np_utils\n",
    "from sklearn.metrics import accuracy_score"
   ]
  },
  {
   "cell_type": "code",
   "execution_count": 2,
   "metadata": {
    "collapsed": true
   },
   "outputs": [],
   "source": [
    "from keras.datasets import mnist\n",
    "# from keras.datasets import cifar10\n",
    "import numpy as np\n",
    "\n",
    "(x_train, y_train),(x_test, y_test) = mnist.load_data()"
   ]
  },
  {
   "cell_type": "code",
   "execution_count": 3,
   "metadata": {
    "collapsed": true
   },
   "outputs": [],
   "source": [
    "nb_classes = 10\n",
    "x_train = x_train.reshape((len(x_train),np.prod(x_train.shape[1:])))\n",
    "x_test = x_test.reshape((len(x_test), np.prod(x_test.shape[1:])))\n",
    "# x_train = x_train[:,0,0:32,0:32]\n",
    "# x_test = x_test[:,0,0:32,0:32]\n",
    "x_train = x_train.astype('float32')/ 255\n",
    "x_test = x_test.astype('float32')/255\n",
    "y_train = x_train.astype('int32')\n",
    "y_test = x_test.astype('int32')\n"
   ]
  },
  {
   "cell_type": "code",
   "execution_count": 4,
   "metadata": {
    "collapsed": false
   },
   "outputs": [
    {
     "name": "stdout",
     "output_type": "stream",
     "text": [
      "(10000, 784)\n"
     ]
    }
   ],
   "source": [
    "# print np.shape(x_train)\n",
    "print np.shape(y_test)"
   ]
  },
  {
   "cell_type": "code",
   "execution_count": 5,
   "metadata": {
    "collapsed": true
   },
   "outputs": [],
   "source": [
    "f = gzip.open('mnist.pkl.gz', 'rb')\n",
    "train_set, valid_set, test_set = cPickle.load(f)\n",
    "f.close()\n",
    "#%%\n",
    "train_set_x = train_set[0]\n",
    "train_set_y = train_set[1]\n",
    "test_set_x = test_set[0]\n",
    "test_set_y = test_set[1]\n",
    "valid_set_x = valid_set[0]\n",
    "valid_set_y = valid_set[1]"
   ]
  },
  {
   "cell_type": "code",
   "execution_count": 8,
   "metadata": {
    "collapsed": false
   },
   "outputs": [],
   "source": [
    "train_set_ind = y2indicator(train_set_y)\n",
    "test_set_ind = y2indicator(test_set_y)\n",
    "val_set_ind = y2indicator(valid_set_y)"
   ]
  },
  {
   "cell_type": "code",
   "execution_count": 7,
   "metadata": {
    "collapsed": true
   },
   "outputs": [],
   "source": [
    "def y2indicator(y):\n",
    "    N = len(y)\n",
    "    ind = np.zeros((N,10))\n",
    "    for i in xrange(N):\n",
    "        ind[i,y[i]] = 1\n",
    "    return ind\n",
    "\n",
    "def relu(x):\n",
    "    return x*(x > 0)\n",
    "\n",
    "def sigmoid(x):\n",
    "    return 1/(1+np.exp(-x))\n",
    "\n",
    "def softmax(a):\n",
    "    expA = np.exp(a)\n",
    "    return expA/np.sum(expA,axis=1, keepdims=True)"
   ]
  },
  {
   "cell_type": "code",
   "execution_count": 52,
   "metadata": {
    "collapsed": false
   },
   "outputs": [
    {
     "name": "stdout",
     "output_type": "stream",
     "text": [
      "[[ 1.  0.  0. ...,  0.  0.  0.]\n",
      " [ 1.  0.  0. ...,  0.  0.  0.]\n",
      " [ 1.  0.  0. ...,  0.  0.  0.]\n",
      " ..., \n",
      " [ 1.  0.  0. ...,  0.  0.  0.]\n",
      " [ 1.  0.  0. ...,  0.  0.  0.]\n",
      " [ 1.  0.  0. ...,  0.  0.  0.]]\n"
     ]
    }
   ],
   "source": [
    "# train_set_ind = y2indicator(y_train)\n",
    "# test_set_ind = y2indicator(y_test)\n",
    "# val_set_ind = y2indicator(valid_set_y)\n",
    "# print train_set_ind"
   ]
  },
  {
   "cell_type": "code",
   "execution_count": 9,
   "metadata": {
    "collapsed": true
   },
   "outputs": [],
   "source": [
    "def addLayer(inputMat,D,M):\n",
    "    weight = theano.shared(np.random.randn(D,M))\n",
    "    print D\n",
    "    print M\n",
    "    \n",
    "#    if addScaling:\n",
    "#        scale = theano.shared(np.random.randn(D),'scale')\n",
    "#    else:\n",
    "#        scale = theano.shared(np.random.randn(D),'scale')\n",
    "#    actualScale = sigmoid(scale)\n",
    "#    getScale = theano.function(inputs = [scale], outputs = [actualScale])\n",
    "#    aScale = getScale(scale)   \n",
    "#    hiddenLayer = multiplyMatrices(inputMatrix, weight, aScale)\n",
    "    h = T.dot(weight, inputMat)\n",
    "    bias = theano.shared(np.random.randn(D,1), broadcastable=(False,True))\n",
    "#     print T.shape(bias)\n",
    "    hiddenLayer = relu(h+bias)    \n",
    "#    return [hiddenLayer,weight,scale]\n",
    "    return [hiddenLayer, weight,bias]\n"
   ]
  },
  {
   "cell_type": "code",
   "execution_count": 11,
   "metadata": {
    "collapsed": false
   },
   "outputs": [
    {
     "name": "stdout",
     "output_type": "stream",
     "text": [
      "10\n",
      "784\n"
     ]
    }
   ],
   "source": [
    "inputMatrix = T.matrix('inputVector')\n",
    "targetMatrix = T.matrix('targetMatrix')\n",
    "\n",
    "M = 784\n",
    "\n",
    "D = 500\n",
    "\n",
    "N = 10\n",
    "[hidden1, W1, b1] = addLayer(inputMatrix,10,M)\n",
    "# [hidden2, W2, b2] = addLayer(hidden1,N,D)\n",
    "# [hidden3, W3, b3] = addLayer(hidden2,D,D)\n",
    "# [hidden4, W4, b4] = addLayer(hidden3,D,D)\n",
    "# [hidden5, W5, b5] = addLayer(hidden4,D,D)\n",
    "# [hidden6, W6, b6] = addLayer(hidden5,N,D)\n",
    "#print hidden1\n",
    "#print W1\n",
    "#print b1\n",
    "outputProbabilities = T.nnet.softmax(hidden1)\n",
    "\n",
    "getOutputProbs = theano.function(inputs=[inputMatrix],outputs=[outputProbabilities])"
   ]
  },
  {
   "cell_type": "code",
   "execution_count": 12,
   "metadata": {
    "collapsed": false
   },
   "outputs": [],
   "source": [
    "cost = -(targetMatrix*T.log(hidden1)).sum()\n",
    "prediction = T.argmax(outputProbabilities,axis=0)\n",
    "accuracy = T.mean(T.neq(prediction, targetMatrix))\n",
    "lr = 0.02\n",
    "# op = getOutputProbs\n",
    "get_prediction = theano.function(inputs = [outputProbabilities],outputs = [prediction])\n",
    "get_accuracy = theano.function(inputs=[prediction,targetMatrix],outputs=[accuracy])"
   ]
  },
  {
   "cell_type": "code",
   "execution_count": 13,
   "metadata": {
    "collapsed": true
   },
   "outputs": [],
   "source": [
    "update_W1 = W1 - lr*T.grad(cost,W1)\n",
    "# update_W2 = W2 - lr*T.grad(cost,W2)\n",
    "# update_W3 = W3 - lr*T.grad(cost,W3)\n",
    "# update_W4 = W4 - lr*T.grad(cost,W4)\n",
    "# update_W5 = W5 - lr*T.grad(cost,W5)\n",
    "# update_W6 = W6 - lr*T.grad(cost,W6)\n",
    "\n",
    "update_b1 = b1 - lr*T.grad(cost,b1)\n",
    "# update_b2 = b2 - lr*T.grad(cost,b2)\n",
    "# update_b3 = b3 - lr*T.grad(cost,b3)\n",
    "# update_b4 = b4 - lr*T.grad(cost,b4)\n",
    "# update_b5 = b5 - lr*T.grad(cost,b5)\n",
    "# update_b6 = b6 - lr*T.grad(cost,b6)"
   ]
  },
  {
   "cell_type": "code",
   "execution_count": 14,
   "metadata": {
    "collapsed": false
   },
   "outputs": [],
   "source": [
    "# train = theano.function(inputs = [inputMatrix,targetMatrix],\n",
    "#                         updates = [(W1,update_W1),(W2,update_W2),(W3,update_W3),(W4,update_W4),(W5,update_W5),(W6,update_W6), (b1,update_b1),(b2,update_b2),(b3,update_b3),(b4,update_b4),(b5,update_b5),(b6,update_b6)] ,\n",
    "#                         )\n",
    "\n",
    "train = theano.function(inputs = [inputMatrix,targetMatrix],updates = [(W1,update_W1),(b1,update_b1)])\n"
   ]
  },
  {
   "cell_type": "code",
   "execution_count": 15,
   "metadata": {
    "collapsed": true
   },
   "outputs": [],
   "source": [
    "max_iter = 50;\n",
    "n_batch = 195\n",
    "batch_sz = 256\n",
    "train_set_ind = train_set_ind.astype('float32')"
   ]
  },
  {
   "cell_type": "code",
   "execution_count": 16,
   "metadata": {
    "collapsed": false
   },
   "outputs": [
    {
     "name": "stdout",
     "output_type": "stream",
     "text": [
      "0.09765625\n",
      "0.09765625\n",
      "0.09765625\n",
      "0.09375\n",
      "0.08984375\n",
      "0.08984375\n",
      "0.08984375\n",
      "0.0859375\n",
      "0.0859375\n",
      "0.0859375\n",
      "0.0859375\n",
      "0.0859375\n",
      "0.0859375\n",
      "0.0859375\n",
      "0.0859375\n",
      "0.0859375\n",
      "0.0859375\n",
      "0.0859375\n",
      "0.0859375\n",
      "0.0859375\n",
      "0.0859375\n",
      "0.0859375\n",
      "0.0859375\n",
      "0.0859375\n",
      "0.0859375\n",
      "0.0859375\n",
      "0.0859375\n",
      "0.0859375\n",
      "0.0859375\n",
      "0.0859375\n",
      "0.0859375\n",
      "0.0859375\n",
      "0.0859375\n",
      "0.0859375\n",
      "0.0859375\n",
      "0.0859375\n",
      "0.0859375\n",
      "0.0859375\n",
      "0.0859375\n",
      "0.0859375\n",
      "0.0859375\n",
      "0.0859375\n",
      "0.0859375\n",
      "0.0859375\n",
      "0.0859375\n",
      "0.0859375\n",
      "0.0859375\n",
      "0.0859375\n",
      "0.0859375\n",
      "0.0859375\n"
     ]
    }
   ],
   "source": [
    "for i in xrange(max_iter):\n",
    "    for j in xrange(n_batch):\n",
    "        Xbatch = train_set_x[j*batch_sz:(j*batch_sz+batch_sz),]\n",
    "        Ybatch = train_set_ind[j*batch_sz:(j*batch_sz+batch_sz),]\n",
    "#         print np.shape(Ybatch)\n",
    "#         print j\n",
    "        Ybat = train_set_y[j*batch_sz:(j*batch_sz+batch_sz),]\n",
    "#         print Ybat\n",
    "#         print np.shape(Ybat)\n",
    "#         print np.shape(Xbatch)\n",
    "#         print np.shape(Ybatch)\n",
    "        X = np.transpose(Xbatch)\n",
    "#         print np.shape(X)\n",
    "        train(X,np.transpose(Ybatch))\n",
    "#         print j\n",
    "#         if j% 10 == 0:\n",
    "    outProb = getOutputProbs(X)\n",
    "#     print outProb        \n",
    "    pred_val = get_prediction(outProb[0])\n",
    "#             print pred_val\n",
    "#             print np.shape\n",
    "#             accuracy = get_accuracy(pred_val,Ybat)\n",
    "#             print accuracy\n",
    "#             print np.shape(outProb[0])\n",
    "#             print np.shape(pred_val)\n",
    "#             print np.shape(np.transpose(pred_val))\n",
    "#             print np.shape(Ybat)\n",
    "#     print Xbatch\n",
    "#     print Ybatch\n",
    "#     print np.shape(np.transpose(pred_val))\n",
    "#     print np.shape(Ybat)\n",
    "    accuracy = accuracy_score(np.transpose(pred_val), Ybat)\n",
    "#             print cost_val\n",
    "    print accuracy"
   ]
  },
  {
   "cell_type": "code",
   "execution_count": null,
   "metadata": {
    "collapsed": true
   },
   "outputs": [],
   "source": [
    "def addScale(weight,inputMatrix):\n",
    "        scale = sigmoid(theano.shared(np.random.randn(D),'scale'))\n",
    "        \n",
    "        scaledHidden = 2*scale*T.dot(weight,inputMatrix)\n",
    "        \n",
    "        return [scale, scaledHidden]"
   ]
  },
  {
   "cell_type": "code",
   "execution_count": null,
   "metadata": {
    "collapsed": true
   },
   "outputs": [],
   "source": [
    "[S1,SH1] = addScale(W1,inputMatrix)\n",
    "[S2, SH2] = addScale(W2,SH1)\n",
    "[S3, SH3] = addScale(W3,SH2)\n",
    "[S4, SH4] = addScale(W4,SH3)\n",
    "[S5, SH5] = addScale(W5,SH4)\n",
    "[S6, SH6] = addScale(W6,SH5)\n",
    "\n",
    "outputProb = T.nnet.softmax(SH6)"
   ]
  },
  {
   "cell_type": "code",
   "execution_count": null,
   "metadata": {
    "collapsed": true
   },
   "outputs": [],
   "source": [
    "targetMatTest = T.matrix('test')\n",
    "inputMatrixTest = T.matrix('inputTest')\n",
    "costTest = -(targetMatTest*T.log(SH6,axis=1))\n",
    "\n",
    "lr2 = 0.02"
   ]
  },
  {
   "cell_type": "code",
   "execution_count": null,
   "metadata": {
    "collapsed": true
   },
   "outputs": [],
   "source": [
    "update_S1 = S1 - lr2*T.grad(cost,S1)\n",
    "update_S2 = S2 - lr2*T.grad(cost,S2)\n",
    "update_S3 = S3 - lr2*T.grad(cost,S3)\n",
    "update_S4 = S4 - lr2*T.grad(cost,S4)\n",
    "update_S5 = S5 - lr2*T.grad(cost,S5)\n",
    "update_S6 = S6 - lr2*T.grad(cost,S6)"
   ]
  },
  {
   "cell_type": "code",
   "execution_count": null,
   "metadata": {
    "collapsed": true
   },
   "outputs": [],
   "source": [
    "testFine = theano.function(\n",
    "    inputs = [inputMatrixTest,targetMatTest],\n",
    "    updates = [(S1,update_S1),(S2,update_S2),(S3,update_S3),(S4,update_S4),(S5,update_S5),(S6,update_S6)]\n",
    ")"
   ]
  },
  {
   "cell_type": "code",
   "execution_count": null,
   "metadata": {
    "collapsed": true
   },
   "outputs": [],
   "source": [
    "get_prediction_test = theano.function(\n",
    "    inputs = [inputMatrixTest,targetMatTest],\n",
    "    outputs = [costTest,outputProb],\n",
    ")"
   ]
  },
  {
   "cell_type": "code",
   "execution_count": null,
   "metadata": {
    "collapsed": true
   },
   "outputs": [],
   "source": [
    "max_iter = 10000;\n",
    "n_batch = 256\n",
    "batch_sz = 256"
   ]
  },
  {
   "cell_type": "code",
   "execution_count": null,
   "metadata": {
    "collapsed": true
   },
   "outputs": [],
   "source": [
    "for i in xrange(max_iter):\n",
    "    for j in xrange(n_batch):\n",
    "        Xbatch = Xval[j*batch_sz:(j*batch_sz+batch_sz),]\n",
    "        Ybatch = Yval[j*batch_sz:(j*batch_sz+batch_sz),]\n",
    "        \n",
    "        testFine(Xbatch,Ybatch)\n",
    "        if j% 10 == 0:\n",
    "            cost_val, pred_val = get_prediction_test(Xval,Yval)\n",
    "            print cost_val\n",
    "            print pred_val"
   ]
  }
 ],
 "metadata": {
  "anaconda-cloud": {},
  "kernelspec": {
   "display_name": "Python [conda root]",
   "language": "python",
   "name": "conda-root-py"
  },
  "language_info": {
   "codemirror_mode": {
    "name": "ipython",
    "version": 2
   },
   "file_extension": ".py",
   "mimetype": "text/x-python",
   "name": "python",
   "nbconvert_exporter": "python",
   "pygments_lexer": "ipython2",
   "version": "2.7.12"
  }
 },
 "nbformat": 4,
 "nbformat_minor": 1
}
