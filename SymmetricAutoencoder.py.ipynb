{
 "cells": [
  {
   "cell_type": "code",
   "execution_count": 39,
   "metadata": {
    "collapsed": false
   },
   "outputs": [
    {
     "name": "stdout",
     "output_type": "stream",
     "text": [
      "100\n"
     ]
    }
   ],
   "source": [
    "from keras.models import Model\n",
    "from keras.layers import Dense, Input\n",
    "from keras.utils import np_utils\n",
    "encoding_dim = 100\n",
    "encoding_dim2 = 32\n",
    "print(encoding_dim)"
   ]
  },
  {
   "cell_type": "code",
   "execution_count": 40,
   "metadata": {
    "collapsed": true
   },
   "outputs": [],
   "source": [
    "input_image = Input(shape=(784,))\n",
    "\n",
    "encoded = Dense(encoding_dim,activation='relu')(input_image)\n",
    "encoded2 = Dense(encoding_dim2, activation='relu')(encoded)\n",
    "decoded2 = Dense(encoding_dim, activation='relu')(encoded2)\n",
    "decoded = Dense(784, activation='relu')(decoded2)\n",
    "# enco_image = Input(shape=(100,))\n",
    "\n",
    "classification = Dense(10, activation='softmax')(decoded)"
   ]
  },
  {
   "cell_type": "code",
   "execution_count": 41,
   "metadata": {
    "collapsed": false
   },
   "outputs": [],
   "source": [
    "autoencoder = Model(input=input_image, output=decoded) \n",
    "classifier = Model(input=input_image, output= classification)\n",
    "# encocoder = Model(input=input_image, output= encoded2)\n",
    "# encoded_img = Input(shape=(encoding_dim2,))\n",
    "# decoder_layer = autoencoder.layers[-1]\n",
    "# decoder = Model(input=encoded_img, output=decoder_layer(encoded_img))"
   ]
  },
  {
   "cell_type": "code",
   "execution_count": 42,
   "metadata": {
    "collapsed": true
   },
   "outputs": [],
   "source": [
    "autoencoder.compile(optimizer='adadelta', loss = 'mse', metrics = ['mse'])\n",
    "classifier.compile(optimizer='adadelta', loss = 'categorical_crossentropy', metrics = ['accuracy'])"
   ]
  },
  {
   "cell_type": "code",
   "execution_count": 43,
   "metadata": {
    "collapsed": true
   },
   "outputs": [],
   "source": [
    "from keras.datasets import mnist\n",
    "# from keras.datasets import cifar10\n",
    "import numpy as np\n",
    "\n",
    "(x_train, y_train),(x_test, y_test) = mnist.load_data()\n",
    "# (x_train, y_train),(x_test, y_test) = cifar10.load_data()"
   ]
  },
  {
   "cell_type": "code",
   "execution_count": 45,
   "metadata": {
    "collapsed": false
   },
   "outputs": [
    {
     "name": "stdout",
     "output_type": "stream",
     "text": [
      "(60000, 784)\n",
      "(10000, 784)\n",
      "(60000, 10)\n",
      "(10000, 10)\n"
     ]
    }
   ],
   "source": [
    "nb_classes = 10\n",
    "\n",
    "x_train = x_train.reshape((len(x_train),np.prod(x_train.shape[1:])))\n",
    "x_test = x_test.reshape((len(x_test), np.prod(x_test.shape[1:])))\n",
    "\n",
    "# x_train = x_train[:,0,0:28,0:28]\n",
    "# x_test = x_test[:,0,0:28,0:28]\n",
    "# x_train = x_train.reshape((len(x_train), np.prod(x_train.shape[1:])))\n",
    "# x_test = x_test.reshape((len(x_test), np.prod(x_test.shape[1:])))\n",
    "x_train = x_train.astype('float')/ 255\n",
    "x_test = x_test.astype('float')/255\n",
    "print x_train.shape\n",
    "print x_test.shape\n",
    "Y_train = np_utils.to_categorical(y_train,nb_classes)\n",
    "Y_test = np_utils.to_categorical(y_test,nb_classes)\n",
    "print Y_train.shape\n",
    "print Y_test.shape"
   ]
  },
  {
   "cell_type": "code",
   "execution_count": 46,
   "metadata": {
    "collapsed": false,
    "scrolled": true
   },
   "outputs": [
    {
     "name": "stdout",
     "output_type": "stream",
     "text": [
      "Train on 60000 samples, validate on 60000 samples\n",
      "Epoch 1/50\n",
      "60000/60000 [==============================] - 6s - loss: 0.0827 - mean_squared_error: 0.0827 - val_loss: 0.0766 - val_mean_squared_error: 0.0766\n",
      "Epoch 2/50\n",
      "60000/60000 [==============================] - 5s - loss: 0.0721 - mean_squared_error: 0.0721 - val_loss: 0.0678 - val_mean_squared_error: 0.0678\n",
      "Epoch 3/50\n",
      "60000/60000 [==============================] - 5s - loss: 0.0641 - mean_squared_error: 0.0641 - val_loss: 0.0607 - val_mean_squared_error: 0.0607\n",
      "Epoch 4/50\n",
      "60000/60000 [==============================] - 5s - loss: 0.0575 - mean_squared_error: 0.0575 - val_loss: 0.0547 - val_mean_squared_error: 0.0547\n",
      "Epoch 5/50\n",
      "60000/60000 [==============================] - 5s - loss: 0.0531 - mean_squared_error: 0.0531 - val_loss: 0.0518 - val_mean_squared_error: 0.0518\n",
      "Epoch 6/50\n",
      "60000/60000 [==============================] - 5s - loss: 0.0506 - mean_squared_error: 0.0506 - val_loss: 0.0496 - val_mean_squared_error: 0.0496\n",
      "Epoch 7/50\n",
      "60000/60000 [==============================] - 5s - loss: 0.0486 - mean_squared_error: 0.0486 - val_loss: 0.0477 - val_mean_squared_error: 0.0477\n",
      "Epoch 8/50\n",
      "60000/60000 [==============================] - 5s - loss: 0.0466 - mean_squared_error: 0.0466 - val_loss: 0.0458 - val_mean_squared_error: 0.0458\n",
      "Epoch 9/50\n",
      "60000/60000 [==============================] - 6s - loss: 0.0451 - mean_squared_error: 0.0451 - val_loss: 0.0445 - val_mean_squared_error: 0.0445\n",
      "Epoch 10/50\n",
      "60000/60000 [==============================] - 6s - loss: 0.0440 - mean_squared_error: 0.0440 - val_loss: 0.0434 - val_mean_squared_error: 0.0434\n",
      "Epoch 11/50\n",
      "60000/60000 [==============================] - 7s - loss: 0.0428 - mean_squared_error: 0.0428 - val_loss: 0.0425 - val_mean_squared_error: 0.0425\n",
      "Epoch 12/50\n",
      "60000/60000 [==============================] - 7s - loss: 0.0420 - mean_squared_error: 0.0420 - val_loss: 0.0417 - val_mean_squared_error: 0.0417\n",
      "Epoch 13/50\n",
      "60000/60000 [==============================] - 6s - loss: 0.0414 - mean_squared_error: 0.0414 - val_loss: 0.0411 - val_mean_squared_error: 0.0411\n",
      "Epoch 14/50\n",
      "60000/60000 [==============================] - 7s - loss: 0.0408 - mean_squared_error: 0.0408 - val_loss: 0.0407 - val_mean_squared_error: 0.0407\n",
      "Epoch 15/50\n",
      "60000/60000 [==============================] - 7s - loss: 0.0404 - mean_squared_error: 0.0404 - val_loss: 0.0402 - val_mean_squared_error: 0.0402\n",
      "Epoch 16/50\n",
      "60000/60000 [==============================] - 6s - loss: 0.0397 - mean_squared_error: 0.0397 - val_loss: 0.0394 - val_mean_squared_error: 0.0394\n",
      "Epoch 17/50\n",
      "60000/60000 [==============================] - 7s - loss: 0.0391 - mean_squared_error: 0.0391 - val_loss: 0.0389 - val_mean_squared_error: 0.0389\n",
      "Epoch 18/50\n",
      "60000/60000 [==============================] - 6s - loss: 0.0387 - mean_squared_error: 0.0387 - val_loss: 0.0386 - val_mean_squared_error: 0.0386\n",
      "Epoch 19/50\n",
      "60000/60000 [==============================] - 6s - loss: 0.0384 - mean_squared_error: 0.0384 - val_loss: 0.0382 - val_mean_squared_error: 0.0382\n",
      "Epoch 20/50\n",
      "60000/60000 [==============================] - 6s - loss: 0.0381 - mean_squared_error: 0.0381 - val_loss: 0.0379 - val_mean_squared_error: 0.0379\n",
      "Epoch 21/50\n",
      "60000/60000 [==============================] - 6s - loss: 0.0377 - mean_squared_error: 0.0377 - val_loss: 0.0375 - val_mean_squared_error: 0.0375\n",
      "Epoch 22/50\n",
      "60000/60000 [==============================] - 7s - loss: 0.0370 - mean_squared_error: 0.0370 - val_loss: 0.0365 - val_mean_squared_error: 0.0365\n",
      "Epoch 23/50\n",
      "60000/60000 [==============================] - 6s - loss: 0.0362 - mean_squared_error: 0.0362 - val_loss: 0.0360 - val_mean_squared_error: 0.0360\n",
      "Epoch 24/50\n",
      "60000/60000 [==============================] - 7s - loss: 0.0358 - mean_squared_error: 0.0358 - val_loss: 0.0357 - val_mean_squared_error: 0.0357\n",
      "Epoch 25/50\n",
      "60000/60000 [==============================] - 7s - loss: 0.0356 - mean_squared_error: 0.0356 - val_loss: 0.0354 - val_mean_squared_error: 0.0354\n",
      "Epoch 26/50\n",
      "60000/60000 [==============================] - 7s - loss: 0.0353 - mean_squared_error: 0.0353 - val_loss: 0.0352 - val_mean_squared_error: 0.0352\n",
      "Epoch 27/50\n",
      "60000/60000 [==============================] - 7s - loss: 0.0351 - mean_squared_error: 0.0351 - val_loss: 0.0350 - val_mean_squared_error: 0.0350\n",
      "Epoch 28/50\n",
      "60000/60000 [==============================] - 6s - loss: 0.0349 - mean_squared_error: 0.0349 - val_loss: 0.0348 - val_mean_squared_error: 0.0348\n",
      "Epoch 29/50\n",
      "60000/60000 [==============================] - 6s - loss: 0.0347 - mean_squared_error: 0.0347 - val_loss: 0.0346 - val_mean_squared_error: 0.0346\n",
      "Epoch 30/50\n",
      "60000/60000 [==============================] - 7s - loss: 0.0346 - mean_squared_error: 0.0346 - val_loss: 0.0346 - val_mean_squared_error: 0.0346\n",
      "Epoch 31/50\n",
      "60000/60000 [==============================] - 7s - loss: 0.0344 - mean_squared_error: 0.0344 - val_loss: 0.0340 - val_mean_squared_error: 0.0340\n",
      "Epoch 32/50\n",
      "60000/60000 [==============================] - 6s - loss: 0.0337 - mean_squared_error: 0.0337 - val_loss: 0.0337 - val_mean_squared_error: 0.0337\n",
      "Epoch 33/50\n",
      "60000/60000 [==============================] - 6s - loss: 0.0332 - mean_squared_error: 0.0332 - val_loss: 0.0330 - val_mean_squared_error: 0.0330\n",
      "Epoch 34/50\n",
      "60000/60000 [==============================] - 7s - loss: 0.0329 - mean_squared_error: 0.0329 - val_loss: 0.0331 - val_mean_squared_error: 0.0331\n",
      "Epoch 35/50\n",
      "60000/60000 [==============================] - 6s - loss: 0.0326 - mean_squared_error: 0.0326 - val_loss: 0.0324 - val_mean_squared_error: 0.0324\n",
      "Epoch 36/50\n",
      "60000/60000 [==============================] - 7s - loss: 0.0323 - mean_squared_error: 0.0323 - val_loss: 0.0322 - val_mean_squared_error: 0.0322\n",
      "Epoch 37/50\n",
      "60000/60000 [==============================] - 7s - loss: 0.0320 - mean_squared_error: 0.0320 - val_loss: 0.0320 - val_mean_squared_error: 0.0320\n",
      "Epoch 38/50\n",
      "60000/60000 [==============================] - 7s - loss: 0.0318 - mean_squared_error: 0.0318 - val_loss: 0.0317 - val_mean_squared_error: 0.0317\n",
      "Epoch 39/50\n",
      "60000/60000 [==============================] - 6s - loss: 0.0317 - mean_squared_error: 0.0317 - val_loss: 0.0317 - val_mean_squared_error: 0.0317\n",
      "Epoch 40/50\n",
      "60000/60000 [==============================] - 6s - loss: 0.0316 - mean_squared_error: 0.0316 - val_loss: 0.0316 - val_mean_squared_error: 0.0316\n",
      "Epoch 41/50\n",
      "60000/60000 [==============================] - 6s - loss: 0.0315 - mean_squared_error: 0.0315 - val_loss: 0.0315 - val_mean_squared_error: 0.0315\n",
      "Epoch 42/50\n",
      "60000/60000 [==============================] - 7s - loss: 0.0313 - mean_squared_error: 0.0313 - val_loss: 0.0312 - val_mean_squared_error: 0.0312\n",
      "Epoch 43/50\n",
      "60000/60000 [==============================] - 6s - loss: 0.0310 - mean_squared_error: 0.0310 - val_loss: 0.0310 - val_mean_squared_error: 0.0310\n",
      "Epoch 44/50\n",
      "60000/60000 [==============================] - 6s - loss: 0.0308 - mean_squared_error: 0.0308 - val_loss: 0.0309 - val_mean_squared_error: 0.0309\n",
      "Epoch 45/50\n",
      "60000/60000 [==============================] - 7s - loss: 0.0308 - mean_squared_error: 0.0308 - val_loss: 0.0308 - val_mean_squared_error: 0.0308\n",
      "Epoch 46/50\n",
      "60000/60000 [==============================] - 7s - loss: 0.0304 - mean_squared_error: 0.0304 - val_loss: 0.0303 - val_mean_squared_error: 0.0303\n",
      "Epoch 47/50\n",
      "60000/60000 [==============================] - 7s - loss: 0.0303 - mean_squared_error: 0.0303 - val_loss: 0.0302 - val_mean_squared_error: 0.0302\n",
      "Epoch 48/50\n",
      "60000/60000 [==============================] - 7s - loss: 0.0302 - mean_squared_error: 0.0302 - val_loss: 0.0302 - val_mean_squared_error: 0.0302\n",
      "Epoch 49/50\n",
      "60000/60000 [==============================] - 7s - loss: 0.0301 - mean_squared_error: 0.0301 - val_loss: 0.0300 - val_mean_squared_error: 0.0300\n",
      "Epoch 50/50\n",
      "60000/60000 [==============================] - 6s - loss: 0.0298 - mean_squared_error: 0.0298 - val_loss: 0.0297 - val_mean_squared_error: 0.0297\n"
     ]
    },
    {
     "data": {
      "text/plain": [
       "<keras.callbacks.History at 0x7f04f751aed0>"
      ]
     },
     "execution_count": 46,
     "metadata": {},
     "output_type": "execute_result"
    }
   ],
   "source": [
    "autoencoder.fit(x_train,x_train,nb_epoch=50, batch_size=256, shuffle=True, validation_data=(x_train, x_train))\n",
    "# encoded_img_x = encocoder.predict(x_train)"
   ]
  },
  {
   "cell_type": "code",
   "execution_count": 47,
   "metadata": {
    "collapsed": false
   },
   "outputs": [
    {
     "name": "stdout",
     "output_type": "stream",
     "text": [
      "(60000, 10)\n",
      "[0.029582331651449204, 0.029582331687211992]\n"
     ]
    }
   ],
   "source": [
    "# encoded_img_test = encocoder.predict(x_test)\n",
    "# print encoded_img_test.shape\n",
    "# print encoded_img_x.shape \n",
    "print Y_train.shape\n",
    "# reconstructedImage = autoencoder.predict(x_test)\n",
    "score = autoencoder.evaluate(x_test, x_test, verbose=0)\n",
    "# print reconstructedImage.shape\n",
    "print score\n",
    "\n",
    "# mse = ((reconstructedImage - x_test)**2).mean(axis= None)\n",
    "\n",
    "# print mse"
   ]
  },
  {
   "cell_type": "code",
   "execution_count": 48,
   "metadata": {
    "collapsed": false
   },
   "outputs": [
    {
     "name": "stdout",
     "output_type": "stream",
     "text": [
      "Train on 60000 samples, validate on 60000 samples\n",
      "Epoch 1/50\n",
      "60000/60000 [==============================] - 5s - loss: 0.5331 - acc: 0.8446 - val_loss: 0.2658 - val_acc: 0.9210\n",
      "Epoch 2/50\n",
      "60000/60000 [==============================] - 6s - loss: 0.2204 - acc: 0.9353 - val_loss: 0.2061 - val_acc: 0.9392\n",
      "Epoch 3/50\n",
      "60000/60000 [==============================] - 5s - loss: 0.1685 - acc: 0.9493 - val_loss: 0.1672 - val_acc: 0.9510\n",
      "Epoch 4/50\n",
      "60000/60000 [==============================] - 5s - loss: 0.1398 - acc: 0.9586 - val_loss: 0.1257 - val_acc: 0.9629\n",
      "Epoch 5/50\n",
      "60000/60000 [==============================] - 6s - loss: 0.1217 - acc: 0.9633 - val_loss: 0.1091 - val_acc: 0.9671\n",
      "Epoch 6/50\n",
      "60000/60000 [==============================] - 7s - loss: 0.1085 - acc: 0.9677 - val_loss: 0.0987 - val_acc: 0.9710\n",
      "Epoch 7/50\n",
      "60000/60000 [==============================] - 6s - loss: 0.0968 - acc: 0.9707 - val_loss: 0.0908 - val_acc: 0.9722\n",
      "Epoch 8/50\n",
      "60000/60000 [==============================] - 6s - loss: 0.0890 - acc: 0.9727 - val_loss: 0.0800 - val_acc: 0.9757\n",
      "Epoch 9/50\n",
      "60000/60000 [==============================] - 7s - loss: 0.0803 - acc: 0.9758 - val_loss: 0.0745 - val_acc: 0.9776\n",
      "Epoch 10/50\n",
      "60000/60000 [==============================] - 7s - loss: 0.0750 - acc: 0.9766 - val_loss: 0.0734 - val_acc: 0.9777\n",
      "Epoch 11/50\n",
      "60000/60000 [==============================] - 5s - loss: 0.0692 - acc: 0.9788 - val_loss: 0.0617 - val_acc: 0.9810\n",
      "Epoch 12/50\n",
      "60000/60000 [==============================] - 5s - loss: 0.0640 - acc: 0.9801 - val_loss: 0.0617 - val_acc: 0.9807\n",
      "Epoch 13/50\n",
      "60000/60000 [==============================] - 5s - loss: 0.0606 - acc: 0.9810 - val_loss: 0.0519 - val_acc: 0.9845\n",
      "Epoch 14/50\n",
      "60000/60000 [==============================] - 6s - loss: 0.0557 - acc: 0.9828 - val_loss: 0.0543 - val_acc: 0.9834\n",
      "Epoch 15/50\n",
      "60000/60000 [==============================] - 6s - loss: 0.0524 - acc: 0.9837 - val_loss: 0.0634 - val_acc: 0.9798\n",
      "Epoch 16/50\n",
      "60000/60000 [==============================] - 6s - loss: 0.0492 - acc: 0.9849 - val_loss: 0.0501 - val_acc: 0.9842\n",
      "Epoch 17/50\n",
      "60000/60000 [==============================] - 6s - loss: 0.0460 - acc: 0.9856 - val_loss: 0.0378 - val_acc: 0.9885\n",
      "Epoch 18/50\n",
      "60000/60000 [==============================] - 7s - loss: 0.0423 - acc: 0.9873 - val_loss: 0.0393 - val_acc: 0.9883\n",
      "Epoch 19/50\n",
      "60000/60000 [==============================] - 7s - loss: 0.0406 - acc: 0.9876 - val_loss: 0.0440 - val_acc: 0.9863\n",
      "Epoch 20/50\n",
      "60000/60000 [==============================] - 6s - loss: 0.0375 - acc: 0.9890 - val_loss: 0.0381 - val_acc: 0.9884\n",
      "Epoch 21/50\n",
      "60000/60000 [==============================] - 7s - loss: 0.0355 - acc: 0.9892 - val_loss: 0.0330 - val_acc: 0.9901\n",
      "Epoch 22/50\n",
      "60000/60000 [==============================] - 6s - loss: 0.0332 - acc: 0.9902 - val_loss: 0.0298 - val_acc: 0.9912\n",
      "Epoch 23/50\n",
      "60000/60000 [==============================] - 7s - loss: 0.0313 - acc: 0.9906 - val_loss: 0.0339 - val_acc: 0.9894\n",
      "Epoch 24/50\n",
      "60000/60000 [==============================] - 7s - loss: 0.0289 - acc: 0.9917 - val_loss: 0.0423 - val_acc: 0.9857\n",
      "Epoch 25/50\n",
      "60000/60000 [==============================] - 7s - loss: 0.0280 - acc: 0.9920 - val_loss: 0.0275 - val_acc: 0.9917\n",
      "Epoch 26/50\n",
      "60000/60000 [==============================] - 7s - loss: 0.0266 - acc: 0.9923 - val_loss: 0.0224 - val_acc: 0.9938\n",
      "Epoch 27/50\n",
      "60000/60000 [==============================] - 7s - loss: 0.0236 - acc: 0.9931 - val_loss: 0.0339 - val_acc: 0.9890\n",
      "Epoch 28/50\n",
      "60000/60000 [==============================] - 7s - loss: 0.0227 - acc: 0.9936 - val_loss: 0.0460 - val_acc: 0.9846\n",
      "Epoch 29/50\n",
      "60000/60000 [==============================] - 6s - loss: 0.0215 - acc: 0.9940 - val_loss: 0.0186 - val_acc: 0.9948\n",
      "Epoch 30/50\n",
      "60000/60000 [==============================] - 7s - loss: 0.0206 - acc: 0.9941 - val_loss: 0.0172 - val_acc: 0.9955\n",
      "Epoch 31/50\n",
      "60000/60000 [==============================] - 7s - loss: 0.0188 - acc: 0.9948 - val_loss: 0.0147 - val_acc: 0.9965\n",
      "Epoch 32/50\n",
      "60000/60000 [==============================] - 6s - loss: 0.0174 - acc: 0.9953 - val_loss: 0.0146 - val_acc: 0.9966\n",
      "Epoch 33/50\n",
      "60000/60000 [==============================] - 7s - loss: 0.0169 - acc: 0.9955 - val_loss: 0.0229 - val_acc: 0.9923\n",
      "Epoch 34/50\n",
      "60000/60000 [==============================] - 6s - loss: 0.0153 - acc: 0.9960 - val_loss: 0.0287 - val_acc: 0.9898\n",
      "Epoch 35/50\n",
      "60000/60000 [==============================] - 6s - loss: 0.0146 - acc: 0.9965 - val_loss: 0.0134 - val_acc: 0.9967\n",
      "Epoch 36/50\n",
      "60000/60000 [==============================] - 7s - loss: 0.0138 - acc: 0.9965 - val_loss: 0.0143 - val_acc: 0.9962\n",
      "Epoch 37/50\n",
      "60000/60000 [==============================] - 7s - loss: 0.0128 - acc: 0.9968 - val_loss: 0.0097 - val_acc: 0.9979\n",
      "Epoch 38/50\n",
      "60000/60000 [==============================] - 6s - loss: 0.0114 - acc: 0.9972 - val_loss: 0.0116 - val_acc: 0.9970\n",
      "Epoch 39/50\n",
      "60000/60000 [==============================] - 7s - loss: 0.0117 - acc: 0.9972 - val_loss: 0.0149 - val_acc: 0.9954\n",
      "Epoch 40/50\n",
      "60000/60000 [==============================] - 6s - loss: 0.0103 - acc: 0.9976 - val_loss: 0.0088 - val_acc: 0.9982\n",
      "Epoch 41/50\n",
      "60000/60000 [==============================] - 6s - loss: 0.0096 - acc: 0.9978 - val_loss: 0.0071 - val_acc: 0.9988\n",
      "Epoch 42/50\n",
      "60000/60000 [==============================] - 7s - loss: 0.0088 - acc: 0.9980 - val_loss: 0.0067 - val_acc: 0.9990\n",
      "Epoch 43/50\n",
      "60000/60000 [==============================] - 7s - loss: 0.0091 - acc: 0.9978 - val_loss: 0.0130 - val_acc: 0.9961\n",
      "Epoch 44/50\n",
      "60000/60000 [==============================] - 7s - loss: 0.0078 - acc: 0.9982 - val_loss: 0.0057 - val_acc: 0.9991\n",
      "Epoch 45/50\n",
      "60000/60000 [==============================] - 6s - loss: 0.0080 - acc: 0.9984 - val_loss: 0.0064 - val_acc: 0.9988\n",
      "Epoch 46/50\n",
      "60000/60000 [==============================] - 6s - loss: 0.0069 - acc: 0.9987 - val_loss: 0.0061 - val_acc: 0.9990\n",
      "Epoch 47/50\n",
      "60000/60000 [==============================] - 7s - loss: 0.0067 - acc: 0.9986 - val_loss: 0.0057 - val_acc: 0.9990\n",
      "Epoch 48/50\n",
      "60000/60000 [==============================] - 6s - loss: 0.0062 - acc: 0.9987 - val_loss: 0.0225 - val_acc: 0.9930\n",
      "Epoch 49/50\n",
      "60000/60000 [==============================] - 7s - loss: 0.0058 - acc: 0.9990 - val_loss: 0.0053 - val_acc: 0.9990\n",
      "Epoch 50/50\n",
      "60000/60000 [==============================] - 6s - loss: 0.0051 - acc: 0.9991 - val_loss: 0.0045 - val_acc: 0.9993\n"
     ]
    },
    {
     "data": {
      "text/plain": [
       "<keras.callbacks.History at 0x7f04f6973b50>"
      ]
     },
     "execution_count": 48,
     "metadata": {},
     "output_type": "execute_result"
    }
   ],
   "source": [
    "classifier.fit(x_train, Y_train, nb_epoch=50, batch_size=256, verbose=1 , validation_data=(x_train, Y_train))\n",
    "# encoded_img_y = encocoder.predict(x_test)"
   ]
  },
  {
   "cell_type": "code",
   "execution_count": null,
   "metadata": {
    "collapsed": true
   },
   "outputs": [],
   "source": []
  },
  {
   "cell_type": "code",
   "execution_count": 49,
   "metadata": {
    "collapsed": false
   },
   "outputs": [
    {
     "name": "stdout",
     "output_type": "stream",
     "text": [
      "[0.085608029069326907, 0.97960000000000003]\n"
     ]
    }
   ],
   "source": [
    "score = classifier.evaluate(x_test, Y_test, verbose= 0)\n",
    "print score\n",
    "\n",
    "# y_scored = np_utils.categorical_probas_to_classes(classifier.predict(x_test))\n",
    "# print y_scored\n",
    "# y2_scored = np_utils.categorical_probas_to_classes(Y_test)\n",
    "# print y2_scored"
   ]
  }
 ],
 "metadata": {
  "anaconda-cloud": {},
  "kernelspec": {
   "display_name": "Python [conda root]",
   "language": "python",
   "name": "conda-root-py"
  },
  "language_info": {
   "codemirror_mode": {
    "name": "ipython",
    "version": 2
   },
   "file_extension": ".py",
   "mimetype": "text/x-python",
   "name": "python",
   "nbconvert_exporter": "python",
   "pygments_lexer": "ipython2",
   "version": "2.7.12"
  }
 },
 "nbformat": 4,
 "nbformat_minor": 1
}
