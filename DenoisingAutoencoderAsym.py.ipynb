{
 "cells": [
  {
   "cell_type": "code",
   "execution_count": 11,
   "metadata": {
    "collapsed": false
   },
   "outputs": [],
   "source": [
    "from keras.models import Model\n",
    "from keras.layers import Dense, Input\n",
    "from keras.utils import np_utils"
   ]
  },
  {
   "cell_type": "code",
   "execution_count": 12,
   "metadata": {
    "collapsed": false
   },
   "outputs": [
    {
     "name": "stdout",
     "output_type": "stream",
     "text": [
      "800\n"
     ]
    }
   ],
   "source": [
    "encoding_dim = 800\n",
    "encoding_dim2 = 500\n",
    "encoding_dim3 = 300\n",
    "print(encoding_dim)"
   ]
  },
  {
   "cell_type": "code",
   "execution_count": 13,
   "metadata": {
    "collapsed": false
   },
   "outputs": [],
   "source": [
    "input_image = Input(shape=(1024,))\n",
    "\n",
    "encoded = Dense(encoding_dim,activation='relu')(input_image)\n",
    "encoded2 = Dense(encoding_dim2, activation='relu')(encoded)\n",
    "encoded3 = Dense(encoding_dim3, activation= 'relu')(encoded2)\n",
    "#decoded2 = Dense(encoding_dim, activation='sigmoid')(encoded)\n",
    "# decoded3 = Dense(encoding_dim2, activation='relu')(encoded3)\n",
    "# decoded2 = Dense(encoding_dim, activation= 'relu')(decoded3)\n",
    "decoded = Dense(1024, activation= 'relu')(encoded3)"
   ]
  },
  {
   "cell_type": "code",
   "execution_count": 14,
   "metadata": {
    "collapsed": true
   },
   "outputs": [],
   "source": [
    "autoencoder = Model(input=input_image, output=decoded) \n",
    "autoencoder.compile(optimizer='adadelta', loss = 'mse', metrics = ['mse'])"
   ]
  },
  {
   "cell_type": "code",
   "execution_count": 15,
   "metadata": {
    "collapsed": true
   },
   "outputs": [],
   "source": [
    "# from keras.datasets import mnist\n",
    "from keras.datasets import cifar10\n",
    "import numpy as np\n",
    "\n",
    "# (x_train, y_train),(x_test, y_test) = mnist.load_data()\n",
    "(x_train, y_train),(x_test, y_test) = cifar10.load_data()"
   ]
  },
  {
   "cell_type": "code",
   "execution_count": 16,
   "metadata": {
    "collapsed": false
   },
   "outputs": [
    {
     "name": "stdout",
     "output_type": "stream",
     "text": [
      "50000\n"
     ]
    }
   ],
   "source": [
    "x_train = x_train[:,0,0:32,0:32]\n",
    "x_test = x_test[:,0,0:32,0:32]\n",
    "x_train = x_train.astype('float32')/255\n",
    "x_test = x_test.astype('float32')/255\n",
    "x_train = x_train.reshape((len(x_train),np.prod(x_train.shape[1:])))\n",
    "x_test = x_test.reshape((len(x_test), np.prod(x_test.shape[1:])))\n",
    "# print x_train.shape\n",
    "# print x_train.shape\n",
    "# print np.shape(x_train)\n",
    "a = x_train.shape\n",
    "print a[0]\n",
    "# print x_train\n",
    "x_train_noisy = x_train + 0.2*np.random.rand(a[0],a[1])\n",
    "b = x_test.shape\n",
    "x_test_noisy = x_test + 0.2*np.random.rand(b[0],b[1])"
   ]
  },
  {
   "cell_type": "code",
   "execution_count": 19,
   "metadata": {
    "collapsed": false
   },
   "outputs": [
    {
     "name": "stdout",
     "output_type": "stream",
     "text": [
      "Train on 50000 samples, validate on 50000 samples\n",
      "Epoch 1/50\n",
      "50000/50000 [==============================] - 15s - loss: 0.0360 - mean_squared_error: 0.0360 - val_loss: 0.0349 - val_mean_squared_error: 0.0349\n",
      "Epoch 2/50\n",
      "50000/50000 [==============================] - 13s - loss: 0.0358 - mean_squared_error: 0.0358 - val_loss: 0.0346 - val_mean_squared_error: 0.0346\n",
      "Epoch 3/50\n",
      "50000/50000 [==============================] - 14s - loss: 0.0354 - mean_squared_error: 0.0354 - val_loss: 0.0361 - val_mean_squared_error: 0.0361\n",
      "Epoch 4/50\n",
      "50000/50000 [==============================] - 14s - loss: 0.0350 - mean_squared_error: 0.0350 - val_loss: 0.0336 - val_mean_squared_error: 0.0336\n",
      "Epoch 5/50\n",
      "50000/50000 [==============================] - 14s - loss: 0.0349 - mean_squared_error: 0.0349 - val_loss: 0.0361 - val_mean_squared_error: 0.0361\n",
      "Epoch 6/50\n",
      "50000/50000 [==============================] - 14s - loss: 0.0349 - mean_squared_error: 0.0349 - val_loss: 0.0378 - val_mean_squared_error: 0.0378\n",
      "Epoch 7/50\n",
      "50000/50000 [==============================] - 13s - loss: 0.0345 - mean_squared_error: 0.0345 - val_loss: 0.0356 - val_mean_squared_error: 0.0356\n",
      "Epoch 8/50\n",
      "50000/50000 [==============================] - 15s - loss: 0.0343 - mean_squared_error: 0.0343 - val_loss: 0.0332 - val_mean_squared_error: 0.0332\n",
      "Epoch 9/50\n",
      "50000/50000 [==============================] - 14s - loss: 0.0339 - mean_squared_error: 0.0339 - val_loss: 0.0316 - val_mean_squared_error: 0.0316\n",
      "Epoch 10/50\n",
      "50000/50000 [==============================] - 14s - loss: 0.0336 - mean_squared_error: 0.0336 - val_loss: 0.0336 - val_mean_squared_error: 0.0336\n",
      "Epoch 11/50\n",
      "50000/50000 [==============================] - 16s - loss: 0.0336 - mean_squared_error: 0.0336 - val_loss: 0.0353 - val_mean_squared_error: 0.0353\n",
      "Epoch 12/50\n",
      "50000/50000 [==============================] - 14s - loss: 0.0331 - mean_squared_error: 0.0331 - val_loss: 0.0326 - val_mean_squared_error: 0.0326\n",
      "Epoch 13/50\n",
      "50000/50000 [==============================] - 15s - loss: 0.0328 - mean_squared_error: 0.0328 - val_loss: 0.0313 - val_mean_squared_error: 0.0313\n",
      "Epoch 14/50\n",
      "50000/50000 [==============================] - 14s - loss: 0.0331 - mean_squared_error: 0.0331 - val_loss: 0.0378 - val_mean_squared_error: 0.0378\n",
      "Epoch 15/50\n",
      "50000/50000 [==============================] - 14s - loss: 0.0330 - mean_squared_error: 0.0330 - val_loss: 0.0335 - val_mean_squared_error: 0.0335\n",
      "Epoch 16/50\n",
      "50000/50000 [==============================] - 14s - loss: 0.0327 - mean_squared_error: 0.0327 - val_loss: 0.0337 - val_mean_squared_error: 0.0337\n",
      "Epoch 17/50\n",
      "50000/50000 [==============================] - 15s - loss: 0.0322 - mean_squared_error: 0.0322 - val_loss: 0.0340 - val_mean_squared_error: 0.0340\n",
      "Epoch 18/50\n",
      "50000/50000 [==============================] - 14s - loss: 0.0316 - mean_squared_error: 0.0316 - val_loss: 0.0313 - val_mean_squared_error: 0.0313\n",
      "Epoch 19/50\n",
      "50000/50000 [==============================] - 15s - loss: 0.0319 - mean_squared_error: 0.0319 - val_loss: 0.0309 - val_mean_squared_error: 0.0309\n",
      "Epoch 20/50\n",
      "50000/50000 [==============================] - 14s - loss: 0.0315 - mean_squared_error: 0.0315 - val_loss: 0.0323 - val_mean_squared_error: 0.0323\n",
      "Epoch 21/50\n",
      "50000/50000 [==============================] - 14s - loss: 0.0307 - mean_squared_error: 0.0307 - val_loss: 0.0319 - val_mean_squared_error: 0.0319\n",
      "Epoch 22/50\n",
      "50000/50000 [==============================] - 14s - loss: 0.0310 - mean_squared_error: 0.0310 - val_loss: 0.0332 - val_mean_squared_error: 0.0332\n",
      "Epoch 23/50\n",
      "50000/50000 [==============================] - 14s - loss: 0.0307 - mean_squared_error: 0.0307 - val_loss: 0.0338 - val_mean_squared_error: 0.0338\n",
      "Epoch 24/50\n",
      "50000/50000 [==============================] - 15s - loss: 0.0305 - mean_squared_error: 0.0305 - val_loss: 0.0305 - val_mean_squared_error: 0.0305\n",
      "Epoch 25/50\n",
      "50000/50000 [==============================] - 14s - loss: 0.0301 - mean_squared_error: 0.0301 - val_loss: 0.0297 - val_mean_squared_error: 0.0297\n",
      "Epoch 26/50\n",
      "50000/50000 [==============================] - 14s - loss: 0.0307 - mean_squared_error: 0.0307 - val_loss: 0.0314 - val_mean_squared_error: 0.0314\n",
      "Epoch 27/50\n",
      "50000/50000 [==============================] - 14s - loss: 0.0304 - mean_squared_error: 0.0304 - val_loss: 0.0304 - val_mean_squared_error: 0.0304\n",
      "Epoch 28/50\n",
      "50000/50000 [==============================] - 15s - loss: 0.0300 - mean_squared_error: 0.0300 - val_loss: 0.0290 - val_mean_squared_error: 0.0290\n",
      "Epoch 29/50\n",
      "50000/50000 [==============================] - 15s - loss: 0.0297 - mean_squared_error: 0.0297 - val_loss: 0.0305 - val_mean_squared_error: 0.0305\n",
      "Epoch 30/50\n",
      "50000/50000 [==============================] - 16s - loss: 0.0293 - mean_squared_error: 0.0293 - val_loss: 0.0301 - val_mean_squared_error: 0.0301\n",
      "Epoch 31/50\n",
      "50000/50000 [==============================] - 15s - loss: 0.0293 - mean_squared_error: 0.0293 - val_loss: 0.0288 - val_mean_squared_error: 0.0288\n",
      "Epoch 32/50\n",
      "50000/50000 [==============================] - 15s - loss: 0.0290 - mean_squared_error: 0.0290 - val_loss: 0.0287 - val_mean_squared_error: 0.0287\n",
      "Epoch 33/50\n",
      "50000/50000 [==============================] - 16s - loss: 0.0289 - mean_squared_error: 0.0289 - val_loss: 0.0290 - val_mean_squared_error: 0.0290\n",
      "Epoch 34/50\n",
      "50000/50000 [==============================] - 15s - loss: 0.0286 - mean_squared_error: 0.0286 - val_loss: 0.0285 - val_mean_squared_error: 0.0285\n",
      "Epoch 35/50\n",
      "50000/50000 [==============================] - 15s - loss: 0.0282 - mean_squared_error: 0.0282 - val_loss: 0.0301 - val_mean_squared_error: 0.0301\n",
      "Epoch 36/50\n",
      "50000/50000 [==============================] - 15s - loss: 0.0284 - mean_squared_error: 0.0284 - val_loss: 0.0279 - val_mean_squared_error: 0.0279\n",
      "Epoch 37/50\n",
      "50000/50000 [==============================] - 15s - loss: 0.0282 - mean_squared_error: 0.0282 - val_loss: 0.0269 - val_mean_squared_error: 0.0269\n",
      "Epoch 38/50\n",
      "50000/50000 [==============================] - 15s - loss: 0.0279 - mean_squared_error: 0.0279 - val_loss: 0.0264 - val_mean_squared_error: 0.0264\n",
      "Epoch 39/50\n",
      "50000/50000 [==============================] - 16s - loss: 0.0276 - mean_squared_error: 0.0276 - val_loss: 0.0265 - val_mean_squared_error: 0.0265\n",
      "Epoch 40/50\n",
      "50000/50000 [==============================] - 15s - loss: 0.0272 - mean_squared_error: 0.0272 - val_loss: 0.0288 - val_mean_squared_error: 0.0288\n",
      "Epoch 41/50\n",
      "50000/50000 [==============================] - 16s - loss: 0.0272 - mean_squared_error: 0.0272 - val_loss: 0.0298 - val_mean_squared_error: 0.0298\n",
      "Epoch 42/50\n",
      "50000/50000 [==============================] - 15s - loss: 0.0272 - mean_squared_error: 0.0272 - val_loss: 0.0283 - val_mean_squared_error: 0.0283\n",
      "Epoch 43/50\n",
      "50000/50000 [==============================] - 16s - loss: 0.0267 - mean_squared_error: 0.0267 - val_loss: 0.0263 - val_mean_squared_error: 0.0263\n",
      "Epoch 44/50\n",
      "50000/50000 [==============================] - 15s - loss: 0.0269 - mean_squared_error: 0.0269 - val_loss: 0.0265 - val_mean_squared_error: 0.0265\n",
      "Epoch 45/50\n",
      "50000/50000 [==============================] - 15s - loss: 0.0268 - mean_squared_error: 0.0268 - val_loss: 0.0276 - val_mean_squared_error: 0.0276\n",
      "Epoch 46/50\n",
      "50000/50000 [==============================] - 16s - loss: 0.0267 - mean_squared_error: 0.0267 - val_loss: 0.0267 - val_mean_squared_error: 0.0267\n",
      "Epoch 47/50\n",
      "50000/50000 [==============================] - 15s - loss: 0.0268 - mean_squared_error: 0.0268 - val_loss: 0.0260 - val_mean_squared_error: 0.0260\n",
      "Epoch 48/50\n",
      "50000/50000 [==============================] - 15s - loss: 0.0264 - mean_squared_error: 0.0264 - val_loss: 0.0278 - val_mean_squared_error: 0.0278\n",
      "Epoch 49/50\n",
      "50000/50000 [==============================] - 15s - loss: 0.0263 - mean_squared_error: 0.0263 - val_loss: 0.0277 - val_mean_squared_error: 0.0277\n",
      "Epoch 50/50\n",
      "50000/50000 [==============================] - 16s - loss: 0.0262 - mean_squared_error: 0.0262 - val_loss: 0.0251 - val_mean_squared_error: 0.0251\n"
     ]
    },
    {
     "data": {
      "text/plain": [
       "<keras.callbacks.History at 0x7ff438c46110>"
      ]
     },
     "execution_count": 19,
     "metadata": {},
     "output_type": "execute_result"
    }
   ],
   "source": [
    "autoencoder.fit(x_train_noisy,x_train,nb_epoch=50, batch_size=256, shuffle=True, validation_data=(x_train_noisy, x_train))"
   ]
  },
  {
   "cell_type": "code",
   "execution_count": 20,
   "metadata": {
    "collapsed": false
   },
   "outputs": [
    {
     "name": "stdout",
     "output_type": "stream",
     "text": [
      "(10000, 1024)\n",
      "0.0253031\n"
     ]
    }
   ],
   "source": [
    "reconstructedImage = autoencoder.predict(x_test_noisy)\n",
    "print reconstructedImage.shape\n",
    "\n",
    "mse = ((reconstructedImage - x_test)**2).mean(axis= None)\n",
    "\n",
    "print mse"
   ]
  }
 ],
 "metadata": {
  "anaconda-cloud": {},
  "kernelspec": {
   "display_name": "Python [conda root]",
   "language": "python",
   "name": "conda-root-py"
  },
  "language_info": {
   "codemirror_mode": {
    "name": "ipython",
    "version": 2
   },
   "file_extension": ".py",
   "mimetype": "text/x-python",
   "name": "python",
   "nbconvert_exporter": "python",
   "pygments_lexer": "ipython2",
   "version": "2.7.12"
  }
 },
 "nbformat": 4,
 "nbformat_minor": 1
}
