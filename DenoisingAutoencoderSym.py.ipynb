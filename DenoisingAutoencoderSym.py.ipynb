{
 "cells": [
  {
   "cell_type": "code",
   "execution_count": 9,
   "metadata": {
    "collapsed": false
   },
   "outputs": [],
   "source": [
    "from keras.models import Model\n",
    "from keras.layers import Dense, Input\n",
    "from keras.utils import np_utils\n"
   ]
  },
  {
   "cell_type": "code",
   "execution_count": 10,
   "metadata": {
    "collapsed": false
   },
   "outputs": [
    {
     "name": "stdout",
     "output_type": "stream",
     "text": [
      "800\n"
     ]
    }
   ],
   "source": [
    "encoding_dim = 800\n",
    "encoding_dim2 = 500\n",
    "encoding_dim3 = 300\n",
    "print(encoding_dim)"
   ]
  },
  {
   "cell_type": "code",
   "execution_count": 11,
   "metadata": {
    "collapsed": true
   },
   "outputs": [],
   "source": [
    "input_image = Input(shape=(1024,))\n",
    "\n",
    "encoded = Dense(encoding_dim,activation='relu')(input_image)\n",
    "encoded2 = Dense(encoding_dim2, activation='relu')(encoded)\n",
    "encoded3 = Dense(encoding_dim3, activation= 'relu')(encoded2)\n",
    "#decoded2 = Dense(encoding_dim, activation='sigmoid')(encoded)\n",
    "decoded3 = Dense(encoding_dim2, activation='relu')(encoded3)\n",
    "decoded2 = Dense(encoding_dim, activation= 'relu')(decoded3)\n",
    "decoded = Dense(1024, activation= 'relu')(decoded2)"
   ]
  },
  {
   "cell_type": "code",
   "execution_count": 12,
   "metadata": {
    "collapsed": true
   },
   "outputs": [],
   "source": [
    "autoencoder = Model(input=input_image, output=decoded) \n",
    "autoencoder.compile(optimizer='adadelta', loss = 'mse', metrics = ['mse'])"
   ]
  },
  {
   "cell_type": "code",
   "execution_count": 13,
   "metadata": {
    "collapsed": false
   },
   "outputs": [],
   "source": [
    "# from keras.datasets import mnist\n",
    "from keras.datasets import cifar10\n",
    "import numpy as np\n",
    "\n",
    "# (x_train, y_train),(x_test, y_test) = mnist.load_data()\n",
    "(x_train, y_train),(x_test, y_test) = cifar10.load_data()"
   ]
  },
  {
   "cell_type": "code",
   "execution_count": 14,
   "metadata": {
    "collapsed": false
   },
   "outputs": [
    {
     "name": "stdout",
     "output_type": "stream",
     "text": [
      "50000\n"
     ]
    }
   ],
   "source": [
    "x_train = x_train[:,0,0:32,0:32]\n",
    "x_test = x_test[:,0,0:32,0:32]\n",
    "x_train = x_train.astype('float32')/255\n",
    "x_test = x_test.astype('float32')/255\n",
    "x_train = x_train.reshape((len(x_train),np.prod(x_train.shape[1:])))\n",
    "x_test = x_test.reshape((len(x_test), np.prod(x_test.shape[1:])))\n",
    "# print x_train.shape\n",
    "# print x_train.shape\n",
    "# print np.shape(x_train)\n",
    "a = x_train.shape\n",
    "print a[0]\n",
    "# print x_train\n",
    "x_train_noisy = x_train + 0.2*np.random.rand(a[0],a[1])\n",
    "b = x_test.shape\n",
    "x_test_noisy = x_test + 0.2*np.random.rand(b[0],b[1])"
   ]
  },
  {
   "cell_type": "code",
   "execution_count": 17,
   "metadata": {
    "collapsed": false
   },
   "outputs": [
    {
     "name": "stdout",
     "output_type": "stream",
     "text": [
      "Train on 50000 samples, validate on 50000 samples\n",
      "Epoch 1/50\n",
      "50000/50000 [==============================] - 25s - loss: 0.0354 - mean_squared_error: 0.0354 - val_loss: 0.0365 - val_mean_squared_error: 0.0365\n",
      "Epoch 2/50\n",
      "50000/50000 [==============================] - 22s - loss: 0.0349 - mean_squared_error: 0.0349 - val_loss: 0.0360 - val_mean_squared_error: 0.0360\n",
      "Epoch 3/50\n",
      "50000/50000 [==============================] - 23s - loss: 0.0343 - mean_squared_error: 0.0343 - val_loss: 0.0333 - val_mean_squared_error: 0.0333\n",
      "Epoch 4/50\n",
      "50000/50000 [==============================] - 23s - loss: 0.0343 - mean_squared_error: 0.0343 - val_loss: 0.0335 - val_mean_squared_error: 0.0335\n",
      "Epoch 5/50\n",
      "50000/50000 [==============================] - 24s - loss: 0.0335 - mean_squared_error: 0.0335 - val_loss: 0.0318 - val_mean_squared_error: 0.0318\n",
      "Epoch 6/50\n",
      "50000/50000 [==============================] - 22s - loss: 0.0333 - mean_squared_error: 0.0333 - val_loss: 0.0318 - val_mean_squared_error: 0.0318\n",
      "Epoch 7/50\n",
      "50000/50000 [==============================] - 22s - loss: 0.0324 - mean_squared_error: 0.0324 - val_loss: 0.0319 - val_mean_squared_error: 0.0319\n",
      "Epoch 8/50\n",
      "50000/50000 [==============================] - 22s - loss: 0.0324 - mean_squared_error: 0.0324 - val_loss: 0.0316 - val_mean_squared_error: 0.0316\n",
      "Epoch 9/50\n",
      "50000/50000 [==============================] - 22s - loss: 0.0322 - mean_squared_error: 0.0322 - val_loss: 0.0307 - val_mean_squared_error: 0.0307\n",
      "Epoch 10/50\n",
      "50000/50000 [==============================] - 22s - loss: 0.0320 - mean_squared_error: 0.0320 - val_loss: 0.0316 - val_mean_squared_error: 0.0316\n",
      "Epoch 11/50\n",
      "50000/50000 [==============================] - 23s - loss: 0.0318 - mean_squared_error: 0.0318 - val_loss: 0.0310 - val_mean_squared_error: 0.0310\n",
      "Epoch 12/50\n",
      "50000/50000 [==============================] - 23s - loss: 0.0319 - mean_squared_error: 0.0319 - val_loss: 0.0303 - val_mean_squared_error: 0.0303\n",
      "Epoch 13/50\n",
      "50000/50000 [==============================] - 23s - loss: 0.0313 - mean_squared_error: 0.0313 - val_loss: 0.0340 - val_mean_squared_error: 0.0340\n",
      "Epoch 14/50\n",
      "50000/50000 [==============================] - 26s - loss: 0.0309 - mean_squared_error: 0.0309 - val_loss: 0.0299 - val_mean_squared_error: 0.0299\n",
      "Epoch 15/50\n",
      "50000/50000 [==============================] - 23s - loss: 0.0308 - mean_squared_error: 0.0308 - val_loss: 0.0310 - val_mean_squared_error: 0.0310\n",
      "Epoch 16/50\n",
      "50000/50000 [==============================] - 24s - loss: 0.0303 - mean_squared_error: 0.0303 - val_loss: 0.0309 - val_mean_squared_error: 0.0309\n",
      "Epoch 17/50\n",
      "50000/50000 [==============================] - 25s - loss: 0.0300 - mean_squared_error: 0.0300 - val_loss: 0.0301 - val_mean_squared_error: 0.0301\n",
      "Epoch 18/50\n",
      "50000/50000 [==============================] - 25s - loss: 0.0301 - mean_squared_error: 0.0301 - val_loss: 0.0303 - val_mean_squared_error: 0.0303\n",
      "Epoch 19/50\n",
      "50000/50000 [==============================] - 23s - loss: 0.0300 - mean_squared_error: 0.0300 - val_loss: 0.0327 - val_mean_squared_error: 0.0327\n",
      "Epoch 20/50\n",
      "50000/50000 [==============================] - 24s - loss: 0.0298 - mean_squared_error: 0.0298 - val_loss: 0.0317 - val_mean_squared_error: 0.0317\n",
      "Epoch 21/50\n",
      "50000/50000 [==============================] - 23s - loss: 0.0295 - mean_squared_error: 0.0295 - val_loss: 0.0289 - val_mean_squared_error: 0.0289\n",
      "Epoch 22/50\n",
      "50000/50000 [==============================] - 23s - loss: 0.0291 - mean_squared_error: 0.0291 - val_loss: 0.0294 - val_mean_squared_error: 0.0294\n",
      "Epoch 23/50\n",
      "50000/50000 [==============================] - 21s - loss: 0.0293 - mean_squared_error: 0.0293 - val_loss: 0.0279 - val_mean_squared_error: 0.0279\n",
      "Epoch 24/50\n",
      "50000/50000 [==============================] - 21s - loss: 0.0292 - mean_squared_error: 0.0292 - val_loss: 0.0296 - val_mean_squared_error: 0.0296\n",
      "Epoch 25/50\n",
      "50000/50000 [==============================] - 22s - loss: 0.0289 - mean_squared_error: 0.0289 - val_loss: 0.0284 - val_mean_squared_error: 0.0284\n",
      "Epoch 26/50\n",
      "50000/50000 [==============================] - 22s - loss: 0.0291 - mean_squared_error: 0.0291 - val_loss: 0.0289 - val_mean_squared_error: 0.0289\n",
      "Epoch 27/50\n",
      "50000/50000 [==============================] - 24s - loss: 0.0291 - mean_squared_error: 0.0291 - val_loss: 0.0281 - val_mean_squared_error: 0.0281\n",
      "Epoch 28/50\n",
      "50000/50000 [==============================] - 24s - loss: 0.0288 - mean_squared_error: 0.0288 - val_loss: 0.0294 - val_mean_squared_error: 0.0294\n",
      "Epoch 29/50\n",
      "50000/50000 [==============================] - 26s - loss: 0.0287 - mean_squared_error: 0.0287 - val_loss: 0.0301 - val_mean_squared_error: 0.0301\n",
      "Epoch 30/50\n",
      "50000/50000 [==============================] - 25s - loss: 0.0286 - mean_squared_error: 0.0286 - val_loss: 0.0294 - val_mean_squared_error: 0.0294\n",
      "Epoch 31/50\n",
      "50000/50000 [==============================] - 22s - loss: 0.0288 - mean_squared_error: 0.0288 - val_loss: 0.0277 - val_mean_squared_error: 0.0277\n",
      "Epoch 32/50\n",
      "50000/50000 [==============================] - 23s - loss: 0.0283 - mean_squared_error: 0.0283 - val_loss: 0.0303 - val_mean_squared_error: 0.0303\n",
      "Epoch 33/50\n",
      "50000/50000 [==============================] - 25s - loss: 0.0288 - mean_squared_error: 0.0288 - val_loss: 0.0302 - val_mean_squared_error: 0.0302\n",
      "Epoch 34/50\n",
      "50000/50000 [==============================] - 26s - loss: 0.0286 - mean_squared_error: 0.0286 - val_loss: 0.0290 - val_mean_squared_error: 0.0290\n",
      "Epoch 35/50\n",
      "50000/50000 [==============================] - 25s - loss: 0.0286 - mean_squared_error: 0.0286 - val_loss: 0.0284 - val_mean_squared_error: 0.0284\n",
      "Epoch 36/50\n",
      "50000/50000 [==============================] - 26s - loss: 0.0286 - mean_squared_error: 0.0286 - val_loss: 0.0278 - val_mean_squared_error: 0.0278\n",
      "Epoch 37/50\n",
      "50000/50000 [==============================] - 24s - loss: 0.0283 - mean_squared_error: 0.0283 - val_loss: 0.0280 - val_mean_squared_error: 0.0280\n",
      "Epoch 38/50\n",
      "50000/50000 [==============================] - 23s - loss: 0.0284 - mean_squared_error: 0.0284 - val_loss: 0.0286 - val_mean_squared_error: 0.0286\n",
      "Epoch 39/50\n",
      "50000/50000 [==============================] - 23s - loss: 0.0282 - mean_squared_error: 0.0282 - val_loss: 0.0262 - val_mean_squared_error: 0.0262\n",
      "Epoch 40/50\n",
      "50000/50000 [==============================] - 23s - loss: 0.0279 - mean_squared_error: 0.0279 - val_loss: 0.0269 - val_mean_squared_error: 0.0269\n",
      "Epoch 41/50\n",
      "50000/50000 [==============================] - 23s - loss: 0.0278 - mean_squared_error: 0.0278 - val_loss: 0.0276 - val_mean_squared_error: 0.0276\n",
      "Epoch 42/50\n",
      "50000/50000 [==============================] - 23s - loss: 0.0277 - mean_squared_error: 0.0277 - val_loss: 0.0277 - val_mean_squared_error: 0.0277\n",
      "Epoch 43/50\n",
      "50000/50000 [==============================] - 23s - loss: 0.0275 - mean_squared_error: 0.0275 - val_loss: 0.0273 - val_mean_squared_error: 0.0273\n",
      "Epoch 44/50\n",
      "50000/50000 [==============================] - 23s - loss: 0.0274 - mean_squared_error: 0.0274 - val_loss: 0.0269 - val_mean_squared_error: 0.0269\n",
      "Epoch 45/50\n",
      "50000/50000 [==============================] - 24s - loss: 0.0271 - mean_squared_error: 0.0271 - val_loss: 0.0279 - val_mean_squared_error: 0.0279\n",
      "Epoch 46/50\n",
      "50000/50000 [==============================] - 23s - loss: 0.0271 - mean_squared_error: 0.0271 - val_loss: 0.0264 - val_mean_squared_error: 0.0264\n",
      "Epoch 47/50\n",
      "50000/50000 [==============================] - 23s - loss: 0.0270 - mean_squared_error: 0.0270 - val_loss: 0.0276 - val_mean_squared_error: 0.0276\n",
      "Epoch 48/50\n",
      "50000/50000 [==============================] - 23s - loss: 0.0267 - mean_squared_error: 0.0267 - val_loss: 0.0264 - val_mean_squared_error: 0.0264\n",
      "Epoch 49/50\n",
      "50000/50000 [==============================] - 23s - loss: 0.0266 - mean_squared_error: 0.0266 - val_loss: 0.0269 - val_mean_squared_error: 0.0269\n",
      "Epoch 50/50\n",
      "50000/50000 [==============================] - 24s - loss: 0.0267 - mean_squared_error: 0.0267 - val_loss: 0.0260 - val_mean_squared_error: 0.0260\n"
     ]
    },
    {
     "data": {
      "text/plain": [
       "<keras.callbacks.History at 0x7f9c2656c310>"
      ]
     },
     "execution_count": 17,
     "metadata": {},
     "output_type": "execute_result"
    }
   ],
   "source": [
    "autoencoder.fit(x_train_noisy,x_train,nb_epoch=50, batch_size=256, shuffle=True, validation_data=(x_train_noisy, x_train))"
   ]
  },
  {
   "cell_type": "code",
   "execution_count": 18,
   "metadata": {
    "collapsed": false
   },
   "outputs": [
    {
     "name": "stdout",
     "output_type": "stream",
     "text": [
      "(10000, 1024)\n",
      "0.0261744\n"
     ]
    }
   ],
   "source": [
    "reconstructedImage = autoencoder.predict(x_test_noisy)\n",
    "print reconstructedImage.shape\n",
    "\n",
    "mse = ((reconstructedImage - x_test)**2).mean(axis= None)\n",
    "\n",
    "print mse"
   ]
  }
 ],
 "metadata": {
  "anaconda-cloud": {},
  "kernelspec": {
   "display_name": "Python [conda root]",
   "language": "python",
   "name": "conda-root-py"
  },
  "language_info": {
   "codemirror_mode": {
    "name": "ipython",
    "version": 2
   },
   "file_extension": ".py",
   "mimetype": "text/x-python",
   "name": "python",
   "nbconvert_exporter": "python",
   "pygments_lexer": "ipython2",
   "version": "2.7.12"
  }
 },
 "nbformat": 4,
 "nbformat_minor": 1
}
